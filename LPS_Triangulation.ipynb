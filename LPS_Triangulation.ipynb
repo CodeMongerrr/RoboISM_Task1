{
  "nbformat": 4,
  "nbformat_minor": 0,
  "metadata": {
    "colab": {
      "provenance": [],
      "collapsed_sections": [],
      "authorship_tag": "ABX9TyO7bIyV5NZL5hkcLEBvgD+l",
      "include_colab_link": true
    },
    "kernelspec": {
      "name": "python3",
      "display_name": "Python 3"
    },
    "language_info": {
      "name": "python"
    }
  },
  "cells": [
    {
      "cell_type": "markdown",
      "metadata": {
        "id": "view-in-github",
        "colab_type": "text"
      },
      "source": [
        "<a href=\"https://colab.research.google.com/github/CodeMongerrr/RoboISM_Task1/blob/master/LPS_Triangulation.ipynb\" target=\"_parent\"><img src=\"https://colab.research.google.com/assets/colab-badge.svg\" alt=\"Open In Colab\"/></a>"
      ]
    },
    {
      "cell_type": "code",
      "execution_count": 39,
      "metadata": {
        "id": "aMM9GVcrbZ1S"
      },
      "outputs": [],
      "source": [
        "import math\n",
        "import matplotlib.pyplot as plt"
      ]
    },
    {
      "cell_type": "code",
      "source": [
        "def dist(x1, x2, y1, y2):\n",
        "    return math.sqrt((x1 - x2)**2 + (y1 - y2)**2)\n",
        "\n",
        "\n",
        "def proj(a, d):\n",
        "    proj1 = math.sqrt(d**2 - a**2)\n",
        "\n",
        "\n",
        "def angle(a, x, c):\n",
        "    return math.acos((a**2 + x**2 - c**2)/ (2 * a * x))\n"
      ],
      "metadata": {
        "id": "wpsEqoeRcCbz"
      },
      "execution_count": 40,
      "outputs": []
    },
    {
      "cell_type": "code",
      "source": [
        "x = float(input(\"Enter the height of the node\"))\n",
        "nodesX = [0, 50, 25]\n",
        "nodesY = [0, 0, 43.3]\n",
        "a = 44.72136\n",
        "b = 84.677822\n",
        "c = 80.622577\n",
        "\n",
        "coordinateX = 0\n",
        "coordinateY = 0"
      ],
      "metadata": {
        "colab": {
          "base_uri": "https://localhost:8080/"
        },
        "id": "8Ls0yjNBb_W-",
        "outputId": "a46ac055-024c-49ec-96ae-07b5de56dd28"
      },
      "execution_count": 48,
      "outputs": [
        {
          "name": "stdout",
          "output_type": "stream",
          "text": [
            "Enter the height of the node50\n"
          ]
        }
      ]
    },
    {
      "cell_type": "code",
      "source": [
        "if ((a>=b and a>=c) or (c>=a and c>=b)):\n",
        "    coordinateY = a * math.sin(angle(a, x, c))\n",
        "    coordinateX = a * math.cos(angle(a, x, c))\n",
        "    \n",
        "if (b>a and b>c):\n",
        "    coordinateY = -1 * a * math.sin(angle(a, x, c))\n",
        "    coordinateX = a * math.cos(angle(a, x, c))"
      ],
      "metadata": {
        "id": "KkL4NJ8jk64s"
      },
      "execution_count": 49,
      "outputs": []
    },
    {
      "cell_type": "code",
      "source": [
        "plt.scatter(nodesX, nodesY)\n",
        "plt.scatter(coordinateX, coordinateY)\n",
        "plt.grid()\n",
        "plt.show()"
      ],
      "metadata": {
        "colab": {
          "base_uri": "https://localhost:8080/",
          "height": 265
        },
        "id": "cYQP7GRfk7eC",
        "outputId": "4f61cdb0-7518-4beb-8ca9-9d70182e4aaf"
      },
      "execution_count": 50,
      "outputs": [
        {
          "output_type": "display_data",
          "data": {
            "text/plain": [
              "<Figure size 432x288 with 1 Axes>"
            ],
            "image/png": "[encoded data removed]"
          },
          "metadata": {
            "needs_background": "light"
          }
        }
      ]
    },
    {
      "cell_type": "code",
      "source": [
        "print(coordinateX, coordinateY)"
      ],
      "metadata": {
        "colab": {
          "base_uri": "https://localhost:8080/"
        },
        "id": "Nbs3lX3npGS0",
        "outputId": "3a3fa059-16ef-4d19-9c06-ef785820164b"
      },
      "execution_count": 51,
      "outputs": [
        {
          "output_type": "stream",
          "name": "stdout",
          "text": [
            "-19.999998818713298 -40.000001093763316\n"
          ]
        }
      ]
    },
    {
      "cell_type": "code",
      "source": [
        "print(180 * angle(a,x,c) / math.pi)"
      ],
      "metadata": {
        "colab": {
          "base_uri": "https://localhost:8080/"
        },
        "id": "MUokLnwurjbM",
        "outputId": "8846db2d-4f05-4086-bae2-bdcf7547506e"
      },
      "execution_count": 45,
      "outputs": [
        {
          "output_type": "stream",
          "name": "stdout",
          "text": [
            "116.56504986360117\n"
          ]
        }
      ]
    },
    {
      "cell_type": "code",
      "source": [
        "a"
      ],
      "metadata": {
        "colab": {
          "base_uri": "https://localhost:8080/"
        },
        "id": "m3UJq8vjsGg8",
        "outputId": "109861eb-7639-43df-d8b9-05163376a4d5"
      },
      "execution_count": null,
      "outputs": [
        {
          "output_type": "execute_result",
          "data": {
            "text/plain": [
              "28.86"
            ]
          },
          "metadata": {},
          "execution_count": 15
        }
      ]
    },
    {
      "cell_type": "code",
      "source": [
        "math.cos(angle(a,x,c))"
      ],
      "metadata": {
        "colab": {
          "base_uri": "https://localhost:8080/"
        },
        "id": "9yiek_WAsaqw",
        "outputId": "4b9baac4-7fad-45f5-d2f7-2bb8551e0b5c"
      },
      "execution_count": null,
      "outputs": [
        {
          "output_type": "execute_result",
          "data": {
            "text/plain": [
              "0.8662508662508662"
            ]
          },
          "metadata": {},
          "execution_count": 16
        }
      ]
    },
    {
      "cell_type": "code",
      "source": [],
      "metadata": {
        "id": "cRrNLLaCu63v"
      },
      "execution_count": null,
      "outputs": []
    }
  ]
}